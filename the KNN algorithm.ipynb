{
 "cells": [
  {
   "cell_type": "code",
   "execution_count": null,
   "id": "7ad82859",
   "metadata": {},
   "outputs": [],
   "source": [
    "import numpy as np"
   ]
  },
  {
   "cell_type": "code",
   "execution_count": null,
   "id": "f25958ac",
   "metadata": {},
   "outputs": [],
   "source": []
  },
  {
   "cell_type": "code",
   "execution_count": null,
   "id": "ec83e54c",
   "metadata": {},
   "outputs": [],
   "source": [
    "col_names = [‘Id’, ‘Clump_thickness’, ‘Uniformity_Cell_Size’, ‘Uniformity_Cell_Shape’, ‘Marginal_Adhesion’,\n",
    "             ‘Single_Epithelial_Cell_Size’, ‘Bare_Nuclei’, ‘Bland_Chromatin’, ‘Normal_Nucleoli’, ‘Mitoses’, ‘Class’]\n",
    "df.columns = col_names\n",
    "df.columns\n"
   ]
  },
  {
   "cell_type": "code",
   "execution_count": null,
   "id": "b9908c51",
   "metadata": {},
   "outputs": [],
   "source": [
    "df.info()"
   ]
  },
  {
   "cell_type": "code",
   "execution_count": null,
   "id": "93f21cec",
   "metadata": {},
   "outputs": [],
   "source": [
    "df.Class"
   ]
  }
 ],
 "metadata": {
  "kernelspec": {
   "display_name": "Python 3 (ipykernel)",
   "language": "python",
   "name": "python3"
  },
  "language_info": {
   "codemirror_mode": {
    "name": "ipython",
    "version": 3
   },
   "file_extension": ".py",
   "mimetype": "text/x-python",
   "name": "python",
   "nbconvert_exporter": "python",
   "pygments_lexer": "ipython3",
   "version": "3.9.12"
  }
 },
 "nbformat": 4,
 "nbformat_minor": 5
}
